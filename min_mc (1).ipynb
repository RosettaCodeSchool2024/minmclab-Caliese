{
  "cells": [
    {
      "cell_type": "markdown",
      "metadata": {
        "id": "faYr5yEvnDCy"
      },
      "source": [
        "Before you turn this problem in, make sure everything runs as expected. First, **restart the kernel** (in the menubar, select Kernel$\\rightarrow$Restart) and then **run all cells** (in the menubar, select Cell$\\rightarrow$Run All).\n",
        "\n",
        "Make sure you fill in any place that says `YOUR CODE HERE` or \"YOUR ANSWER HERE\", as well as your name and collaborators below:"
      ]
    },
    {
      "cell_type": "code",
      "execution_count": null,
      "metadata": {
        "id": "CoKK3LCqnDC0"
      },
      "outputs": [],
      "source": [
        "NAME = \"Caliese Beckford\"\n",
        "COLLABORATORS = \"\""
      ]
    },
    {
      "cell_type": "markdown",
      "metadata": {
        "id": "GiH-wdphnDC0"
      },
      "source": [
        "---"
      ]
    },
    {
      "cell_type": "markdown",
      "metadata": {
        "id": "uJ4dNRVwnDC1"
      },
      "source": [
        "# Basic Folding Algorithm\n",
        "Keywords: pose_from_sequence(), random move, scoring move, Metropolis, assign(), Pose()"
      ]
    },
    {
      "cell_type": "code",
      "execution_count": 1,
      "metadata": {
        "id": "GQSo40ujnDC1",
        "colab": {
          "base_uri": "https://localhost:8080/"
        },
        "outputId": "6b4c051f-9577-458b-883e-bff1bf4f752f"
      },
      "outputs": [
        {
          "output_type": "stream",
          "name": "stdout",
          "text": [
            "Collecting pyrosettacolabsetup\n",
            "  Downloading pyrosettacolabsetup-1.0.9-py3-none-any.whl (4.9 kB)\n",
            "Installing collected packages: pyrosettacolabsetup\n",
            "Successfully installed pyrosettacolabsetup-1.0.9\n",
            "Mounted at /content/google_drive\n",
            "\n",
            "Note that USE OF PyRosetta FOR COMMERCIAL PURPOSES REQUIRE PURCHASE OF A LICENSE.\n",
            "See https://github.com/RosettaCommons/rosetta/blob/main/LICENSE.md or email license@uw.edu for details.\n",
            "\n",
            "Looking for compatible PyRosetta wheel file at google-drive/PyRosetta/colab.bin//wheels...\n",
            "Found compatible wheel: /content/google_drive/MyDrive/PyRosetta/colab.bin/wheels//content/google_drive/MyDrive/PyRosetta/colab.bin/wheels/pyrosetta-2024.19+release.a34b73c40f-cp310-cp310-linux_x86_64.whl\n",
            "\n",
            "\n",
            "┌──────────────────────────────────────────────────────────────────────────────┐\n",
            "│                                 PyRosetta-4                                  │\n",
            "│              Created in JHU by Sergey Lyskov and PyRosetta Team              │\n",
            "│              (C) Copyright Rosetta Commons Member Institutions               │\n",
            "│                                                                              │\n",
            "│ NOTE: USE OF PyRosetta FOR COMMERCIAL PURPOSES REQUIRE PURCHASE OF A LICENSE │\n",
            "│         See LICENSE.PyRosetta.md or email license@uw.edu for details         │\n",
            "└──────────────────────────────────────────────────────────────────────────────┘\n",
            "PyRosetta-4 2024 [Rosetta PyRosetta4.MinSizeRel.python310.ubuntu 2024.19+release.a34b73c40fe9c61558d566d6a63f803cfb15a4fc 2024-05-02T16:22:03] retrieved from: http://www.pyrosetta.org\n",
            "core.init: Checking for fconfig files in pwd and ./rosetta/flags\n",
            "core.init: Rosetta version: PyRosetta4.MinSizeRel.python310.ubuntu r381 2024.19+release.a34b73c40f a34b73c40fe9c61558d566d6a63f803cfb15a4fc http://www.pyrosetta.org 2024-05-02T16:22:03\n",
            "core.init: Rosetta extras: []\n",
            "core.init: command: PyRosetta -ex1 -ex2aro -database /usr/local/lib/python3.10/dist-packages/pyrosetta/database\n",
            "basic.random.init_random_generator: 'RNG device' seed mode, using '/dev/urandom', seed=-929243073 seed_offset=0 real_seed=-929243073\n",
            "basic.random.init_random_generator: RandomGenerator:init: Normal mode, seed=-929243073 RG_type=mt19937\n",
            "┌──────────────────────────────────────────────────────────────────────────────┐\n",
            "│                                 PyRosetta-4                                  │\n",
            "│              Created in JHU by Sergey Lyskov and PyRosetta Team              │\n",
            "│              (C) Copyright Rosetta Commons Member Institutions               │\n",
            "│                                                                              │\n",
            "│ NOTE: USE OF PyRosetta FOR COMMERCIAL PURPOSES REQUIRE PURCHASE OF A LICENSE │\n",
            "│         See LICENSE.PyRosetta.md or email license@uw.edu for details         │\n",
            "└──────────────────────────────────────────────────────────────────────────────┘\n",
            "PyRosetta-4 2024 [Rosetta PyRosetta4.MinSizeRel.python310.ubuntu 2024.19+release.a34b73c40fe9c61558d566d6a63f803cfb15a4fc 2024-05-02T16:22:03] retrieved from: http://www.pyrosetta.org\n",
            "core.init: Checking for fconfig files in pwd and ./rosetta/flags\n",
            "core.init: Rosetta version: PyRosetta4.MinSizeRel.python310.ubuntu r381 2024.19+release.a34b73c40f a34b73c40fe9c61558d566d6a63f803cfb15a4fc http://www.pyrosetta.org 2024-05-02T16:22:03\n",
            "core.init: Rosetta extras: []\n",
            "core.init: command: PyRosetta -ex1 -ex2aro -database /usr/local/lib/python3.10/dist-packages/pyrosetta/database\n",
            "basic.random.init_random_generator: 'RNG device' seed mode, using '/dev/urandom', seed=-275393963 seed_offset=0 real_seed=-275393963\n",
            "basic.random.init_random_generator: RandomGenerator:init: Normal mode, seed=-275393963 RG_type=mt19937\n"
          ]
        }
      ],
      "source": [
        "!pip install pyrosettacolabsetup\n",
        "import pyrosettacolabsetup; pyrosettacolabsetup.install_pyrosetta()\n",
        "import pyrosetta; pyrosetta.init()\n",
        "from pyrosetta import *\n",
        "from pyrosetta.teaching import *\n",
        "init()"
      ]
    },
    {
      "cell_type": "markdown",
      "metadata": {
        "id": "SevCT1UOnDC1"
      },
      "source": [
        "## Building the Pose"
      ]
    },
    {
      "cell_type": "markdown",
      "metadata": {
        "id": "igW8mcvanDC1"
      },
      "source": [
        "In this lab, you will be folding a 10 residue protein by building a simple de novo folding algorithm. Start by initializing PyRosetta as usual."
      ]
    },
    {
      "cell_type": "markdown",
      "metadata": {
        "id": "uZB-_VeDnDC1"
      },
      "source": [
        "Create a simple poly-alanine `pose` with 10 residues for testing your folding algorithm. Store the pose in a variable called \"polyA.\"\n",
        "\n",
        "Figure out how to set the pdb information of the \"polyA\" protein to have name \"polyA\""
      ]
    },
    {
      "cell_type": "code",
      "execution_count": 3,
      "metadata": {
        "deletable": false,
        "nbgrader": {
          "cell_type": "code",
          "checksum": "dc92af4c84322c255ab2d1fc670a45d7",
          "grade": true,
          "grade_id": "cell-e4c1f7f4858d8ee4",
          "locked": false,
          "points": 0,
          "schema_version": 3,
          "solution": true
        },
        "id": "2oGImqhunDC1",
        "colab": {
          "base_uri": "https://localhost:8080/"
        },
        "outputId": "2f6a4f9a-f80c-4ca3-dcac-8e1e3a95c3d5"
      },
      "outputs": [
        {
          "output_type": "stream",
          "name": "stdout",
          "text": [
            "core.chemical.GlobalResidueTypeSet: Finished initializing fa_standard residue type set.  Created 985 residue types\n",
            "core.chemical.GlobalResidueTypeSet: Total time to initialize 1.07017 seconds.\n"
          ]
        }
      ],
      "source": [
        "# YOUR CODE HERE\n",
        "polyA = pose_from_sequence(\"AAAAAAAAAA\")\n",
        "\n",
        "# YOUR CODE HERE\n",
        "#raise NotImplementedError()"
      ]
    },
    {
      "cell_type": "markdown",
      "source": [
        "ensure that the sequence of the polyA sequence is what you expect"
      ],
      "metadata": {
        "id": "BXp3nyXovO3z"
      }
    },
    {
      "cell_type": "code",
      "source": [
        "# YOUR CODE HERE\n",
        "polyA.sequence()"
      ],
      "metadata": {
        "id": "B-4u2jDyvTcQ",
        "colab": {
          "base_uri": "https://localhost:8080/",
          "height": 36
        },
        "outputId": "6c5c442f-f351-41d5-9ac4-b9ab073a3c06"
      },
      "execution_count": 4,
      "outputs": [
        {
          "output_type": "execute_result",
          "data": {
            "text/plain": [
              "'AAAAAAAAAA'"
            ],
            "application/vnd.google.colaboratory.intrinsic+json": {
              "type": "string"
            }
          },
          "metadata": {},
          "execution_count": 4
        }
      ]
    },
    {
      "cell_type": "markdown",
      "metadata": {
        "id": "Kn2OdhOUnDC2"
      },
      "source": [
        "__Question:__\n",
        "Check the backbone dihedrals of a few residues (except the first and last) using the `.phi()` and `.psi()` methods in `Pose`. What are the values of $\\phi$ and $\\psi$ dihedrals? You should see ideal bond lengths and angles, but the dihedrals may not be as realistic. Also try to figure out why we can't get the backbone dihedrals of the first and last residues?"
      ]
    },
    {
      "cell_type": "code",
      "execution_count": 17,
      "metadata": {
        "deletable": false,
        "nbgrader": {
          "cell_type": "code",
          "checksum": "9739bef3d6136554ba0cecb4fa8344fb",
          "grade": true,
          "grade_id": "cell-8ff53305ceab1573",
          "locked": false,
          "points": 0,
          "schema_version": 3,
          "solution": true
        },
        "id": "yP1YP5RonDC2",
        "colab": {
          "base_uri": "https://localhost:8080/"
        },
        "outputId": "ca97adc9-cb4d-487e-e657-50e6a4b432b8"
      },
      "outputs": [
        {
          "output_type": "stream",
          "name": "stdout",
          "text": [
            "2 180.0 2 180.0\n",
            "3 180.0 3 180.0\n",
            "4 180.0 4 180.0\n",
            "5 180.0 5 180.0\n",
            "6 180.0 6 180.0\n",
            "7 180.0 7 180.0\n",
            "8 180.0 8 180.0\n",
            "9 180.0 9 180.0\n"
          ]
        }
      ],
      "source": [
        "# YOUR CODE HERE\n",
        "for i in range(2, 10):\n",
        "  print(i, polyA.phi(i), i, polyA.psi(i))\n",
        ""
      ]
    },
    {
      "cell_type": "code",
      "source": [],
      "metadata": {
        "id": "TSQetBeggVjc"
      },
      "execution_count": null,
      "outputs": []
    },
    {
      "cell_type": "markdown",
      "metadata": {
        "id": "UiP2OAfanDC2"
      },
      "source": [
        "Use PyMOL to view the `polyA` `Pose`. You should see a long thread-like structure in PyMOL."
      ]
    },
    {
      "cell_type": "code",
      "execution_count": 19,
      "metadata": {
        "id": "QyM0gaqinDC2",
        "colab": {
          "base_uri": "https://localhost:8080/"
        },
        "outputId": "7d21c321-10f3-4ae6-9440-d3ba188ec29c"
      },
      "outputs": [
        {
          "output_type": "execute_result",
          "data": {
            "text/plain": [
              "True"
            ]
          },
          "metadata": {},
          "execution_count": 19
        }
      ],
      "source": [
        "# visualize the pose in PyMOL and save the screenshot to submit\n",
        "polyA.dump_pdb(\"google_drive/MyDrive/CodeSchool2024/inputs/polyA.pdb\")"
      ]
    },
    {
      "cell_type": "markdown",
      "metadata": {
        "id": "2YMdmWGEnDC2"
      },
      "source": [
        "## Building A Basic *de Novo* Folding Algorithm\n",
        "\n",
        "Now, write a program that implements a Monte Carlo algorithm to optimize the protein conformation. The algorithm will be very simple: make a random move, score the protein, and accept/reject the move based on the Metropolis criterion.\n",
        "\n",
        "Our main program will include 100 iterations of making a random trial move, scoring the protein, and accepting/rejecting the move. Therefore, we can break this algorithm down into three smaller subroutines: **random, score, and decision.**"
      ]
    },
    {
      "cell_type": "markdown",
      "metadata": {
        "id": "3j1f06iHnDC2"
      },
      "source": [
        "### Step 1: Random Move\n",
        "\n",
        "For the **random** trial move, write a subroutine to choose one residue at random using `random.randint()` and then randomly perturb either the φ or ψ angles by a random number chosen from a Gaussian distribution. Use the Python built-in function `random.gauss()` from the `random` library with a mean of the current angle and a standard deviation of 25°."
      ]
    },
    {
      "cell_type": "code",
      "execution_count": 49,
      "metadata": {
        "deletable": false,
        "nbgrader": {
          "cell_type": "code",
          "checksum": "c0e88c27592e4a00af92f92d6ddd12f4",
          "grade": true,
          "grade_id": "cell-745a45e62c624566",
          "locked": false,
          "points": 0,
          "schema_version": 3,
          "solution": true
        },
        "id": "ljuLFsN9nDC2",
        "colab": {
          "base_uri": "https://localhost:8080/"
        },
        "outputId": "78b7b768-4997-4246-a40c-788aff184117"
      },
      "outputs": [
        {
          "output_type": "stream",
          "name": "stdout",
          "text": [
            "10\n"
          ]
        },
        {
          "output_type": "execute_result",
          "data": {
            "text/plain": [
              "True"
            ]
          },
          "metadata": {},
          "execution_count": 49
        }
      ],
      "source": [
        "import math\n",
        "import random\n",
        "\n",
        "def randTrial(polyA):\n",
        "  rand1 =random.randint(1,10)\n",
        "  #b = random.randint(10)\n",
        "  print(rand1)\n",
        "  #print(rand1)\n",
        "\n",
        "#current phi and current psi as variables in the gauss thing\n",
        "  current_phi = polyA.phi(rand1)\n",
        "  current_psi = polyA.psi(rand1)\n",
        "  new_phi =  random.gauss(current_phi, 25)\n",
        "  new_psi = random.gauss(current_psi, 25)\n",
        "  #print(current_phi)\n",
        "  #print(current_psi)\n",
        "\n",
        "  polyA.set_phi(rand1, new_phi)\n",
        "  polyA.set_psi(rand1, new_psi)\n",
        "\n",
        "  return polyA\n",
        "  #print(new_phi)\n",
        "  #print(new_psi)\n",
        "\n",
        "randTrial(polyA)\n",
        "\n",
        "polyA.dump_pdb(\"google_drive/MyDrive/CodeSchool2024/inputs/perturbed_polyA.pdb\")\n",
        "\n",
        ""
      ]
    },
    {
      "cell_type": "markdown",
      "metadata": {
        "id": "-E7NA-7TnDC2"
      },
      "source": [
        "### Step 2: Scoring Move\n",
        "\n",
        "For the **scoring** step, we need to create a scoring function and make a subroutine that simply returns the numerical energy score of the pose."
      ]
    },
    {
      "cell_type": "markdown",
      "source": [
        "you may need to look back at the previous lab to recall how to get the score function\n",
        "\n",
        "You should try to use the standard full-atom (fa) ref2015 score function"
      ],
      "metadata": {
        "id": "ssgm8UDsqguG"
      }
    },
    {
      "cell_type": "code",
      "execution_count": 55,
      "metadata": {
        "deletable": false,
        "nbgrader": {
          "cell_type": "code",
          "checksum": "d8a586ebc3daa51b615abe7cc4777fad",
          "grade": true,
          "grade_id": "cell-bd1a937d32ede4e2",
          "locked": false,
          "points": 0,
          "schema_version": 3,
          "solution": true
        },
        "colab": {
          "base_uri": "https://localhost:8080/"
        },
        "id": "wL_MO63ZnDC2",
        "outputId": "58f1bb45-4008-4203-f32e-f3fe2362a4e0"
      },
      "outputs": [
        {
          "output_type": "stream",
          "name": "stdout",
          "text": [
            "core.scoring.ScoreFunctionFactory: SCOREFUNCTION: ref2015\n",
            "core.scoring.etable: Starting energy table calculation\n",
            "core.scoring.etable: smooth_etable: changing atr/rep split to bottom of energy well\n",
            "core.scoring.etable: smooth_etable: spline smoothing lj etables (maxdis = 6)\n",
            "core.scoring.etable: smooth_etable: spline smoothing solvation etables (max_dis = 6)\n",
            "core.scoring.etable: Finished calculating energy tables.\n",
            "basic.io.database: Database file opened: scoring/score_functions/hbonds/ref2015_params/HBPoly1D.csv\n",
            "basic.io.database: Database file opened: scoring/score_functions/hbonds/ref2015_params/HBFadeIntervals.csv\n",
            "basic.io.database: Database file opened: scoring/score_functions/hbonds/ref2015_params/HBEval.csv\n",
            "basic.io.database: Database file opened: scoring/score_functions/hbonds/ref2015_params/DonStrength.csv\n",
            "basic.io.database: Database file opened: scoring/score_functions/hbonds/ref2015_params/AccStrength.csv\n",
            "basic.io.database: Database file opened: scoring/score_functions/rama/fd/all.ramaProb\n",
            "basic.io.database: Database file opened: scoring/score_functions/rama/fd/prepro.ramaProb\n",
            "basic.io.database: Database file opened: scoring/score_functions/omega/omega_ppdep.all.txt\n",
            "basic.io.database: Database file opened: scoring/score_functions/omega/omega_ppdep.gly.txt\n",
            "basic.io.database: Database file opened: scoring/score_functions/omega/omega_ppdep.pro.txt\n",
            "basic.io.database: Database file opened: scoring/score_functions/omega/omega_ppdep.valile.txt\n",
            "basic.io.database: Database file opened: scoring/score_functions/P_AA_pp/P_AA\n",
            "basic.io.database: Database file opened: scoring/score_functions/P_AA_pp/P_AA_n\n",
            "core.scoring.P_AA: shapovalov_lib::shap_p_aa_pp_smooth_level of 1( aka low_smooth ) got activated.\n",
            "basic.io.database: Database file opened: scoring/score_functions/P_AA_pp/shapovalov/10deg/kappa131/a20.prop\n",
            "basic.io.database: Database file opened: scoring/score_functions/elec_cp_reps.dat\n",
            "core.scoring.elec.util: Read 40 countpair representative atoms\n",
            "core.pack.dunbrack.RotamerLibrary: shapovalov_lib_fixes_enable option is true.\n",
            "core.pack.dunbrack.RotamerLibrary: shapovalov_lib::shap_dun10_smooth_level of 1( aka lowest_smooth ) got activated.\n",
            "core.pack.dunbrack.RotamerLibrary: Binary rotamer library selected: /usr/local/lib/python3.10/dist-packages/pyrosetta/database/rotamer/shapovalov/StpDwn_0-0-0/Dunbrack10.lib.bin\n",
            "core.pack.dunbrack.RotamerLibrary: Using Dunbrack library binary file '/usr/local/lib/python3.10/dist-packages/pyrosetta/database/rotamer/shapovalov/StpDwn_0-0-0/Dunbrack10.lib.bin'.\n",
            "core.pack.dunbrack.RotamerLibrary: Dunbrack 2010 library took 0.45982 seconds to load from binary\n",
            "36.017467579521565\n"
          ]
        },
        {
          "output_type": "execute_result",
          "data": {
            "text/plain": [
              "36.017467579521565"
            ]
          },
          "metadata": {},
          "execution_count": 55
        }
      ],
      "source": [
        "# DEFINE A SCORING FUNCTION, YOUR CODE HERE\n",
        "from pyrosetta.teaching import *\n",
        "\n",
        "\n",
        "def score(polyA):\n",
        "  sfxn = get_score_function(True)\n",
        "\n",
        "  print(sfxn(polyA))\n",
        "  return sfxn(polyA)\n",
        "\n",
        "score(polyA)"
      ]
    },
    {
      "cell_type": "markdown",
      "metadata": {
        "id": "PFDFcp4cnDC2"
      },
      "source": [
        "### Step 3: Accepting/Rejecting Move\n",
        "For the **decision** step, we need to make a subroutine that either accepts or rejects the new conformatuon based on the Metropolis criterion. The Metropolis criterion has a probability of accepting a move as $P = \\exp( -\\Delta G / kT )$. When $ΔE ≥ 0$ (in this case change in rosetta energy), the Metropolis criterion probability of accepting the move is $P = \\exp( -\\Delta G / kT )$. When $ΔE < 0$, the Metropolis criterion probability of accepting the move is $P = 1$. Use $kT = 1$ Rosetta Energy Unit (REU)."
      ]
    },
    {
      "cell_type": "code",
      "execution_count": 67,
      "metadata": {
        "deletable": false,
        "nbgrader": {
          "cell_type": "code",
          "checksum": "e379754cffceebdea48e26efae440f30",
          "grade": true,
          "grade_id": "cell-9f9766e421aae110",
          "locked": false,
          "points": 0,
          "schema_version": 3,
          "solution": true
        },
        "id": "XIsihMZPnDC2"
      },
      "outputs": [],
      "source": [
        "import math\n",
        "\n",
        "def decision(before_pose, after_pose):\n",
        "  deltaG = score(after_pose) - score(before_pose)\n",
        "  if (deltaG < 0):\n",
        "    return after_pose\n",
        "  else:\n",
        "    P = math.exp(-deltaG / 1)\n",
        "    sample_prob = random.uniform(0,1)\n",
        "    if (sample_prob < P):\n",
        "        return after_pose\n",
        "    else:\n",
        "        return before_pose\n",
        "\n",
        "  #print(decision(polyA,polyA))\n",
        "\n",
        "  #polyA.dump_pdb(\"google_drive/MyDrive/CodeSchool2024/inputs/decision_polyA.pdb\")"
      ]
    },
    {
      "cell_type": "markdown",
      "metadata": {
        "id": "UFQgK7TwnDC3"
      },
      "source": [
        "### Step 4: Execution\n",
        "Now we can put these three subroutines together in our main program! Write a loop in the main program so that it performs 100 iterations of: making a random trial move, scoring the protein, and accepting/rejecting the move.\n",
        "\n",
        "After each iteration of the search, output the current pose energy and the lowest energy ever observed. **The final output of this program should be the lowest energy conformation that is achieved at *any* point during the simulation.** Be sure to use `low_pose.assign(pose)` rather than `low_pose = pose`, since the latter will only copy a pointer to the original pose."
      ]
    },
    {
      "cell_type": "code",
      "execution_count": 71,
      "metadata": {
        "deletable": false,
        "nbgrader": {
          "cell_type": "code",
          "checksum": "4cf2cc30dd328bf93da671c237e300a7",
          "grade": true,
          "grade_id": "cell-2556d0daef881f24",
          "locked": false,
          "points": 0,
          "schema_version": 3,
          "solution": true
        },
        "id": "reC9YlvdnDC3",
        "colab": {
          "base_uri": "https://localhost:8080/"
        },
        "outputId": "ee96c074-6ce3-40ad-d0d7-b68891abdd68"
      },
      "outputs": [
        {
          "output_type": "stream",
          "name": "stdout",
          "text": [
            "5\n",
            "core.scoring.ScoreFunctionFactory: SCOREFUNCTION: ref2015\n",
            "37.11710160541038\n"
          ]
        }
      ],
      "source": [
        "import math\n",
        "import random\n",
        "from pyrosetta.teaching import *\n",
        "\n",
        "def basic_folding(polyA):\n",
        " # x = 1\n",
        "  for i in range(100):\n",
        "   def randTrial(polyA):\n",
        "    rand1 = random.randint(1,10)\n",
        "    #b = random.randint(10)\n",
        "    print(rand1)\n",
        "    #print(rand1)\n",
        "\n",
        "#current phi and current psi as variables in the gauss thing\n",
        "    current_phi = polyA.phi(rand1)\n",
        "    current_psi = polyA.psi(rand1)\n",
        "    new_phi =  random.gauss(current_phi, 25)\n",
        "    new_psi = random.gauss(current_psi, 25)\n",
        "    #print(current_phi)\n",
        "    #print(current_psi)\n",
        "\n",
        "    polyA.set_phi(rand1, new_phi)\n",
        "    polyA.set_psi(rand1, new_psi)\n",
        "\n",
        "    return polyA\n",
        "  #print(new_phi)\n",
        "  #print(new_psi)\n",
        "\n",
        "randTrial(polyA)\n",
        "\n",
        "#polyA.dump_pdb(\"google_drive/MyDrive/CodeSchool2024/inputs/perturbed_polyA.pdb\")\n",
        "\n",
        "# DEFINE A SCORING FUNCTION, YOUR CODE HERE\n",
        "\n",
        "def score(polyA):\n",
        "  sfxn = get_score_function(True)\n",
        "\n",
        "  print(sfxn(polyA))\n",
        "  return sfxn(polyA)\n",
        "\n",
        "score(polyA)\n",
        "\n",
        "def decision(before_pose, after_pose):\n",
        "  deltaG = score(after_pose) - score(before_pose)\n",
        "  if (deltaG < 0):\n",
        "    return after_pose\n",
        "  else:\n",
        "    P = math.exp(-deltaG / 1)\n",
        "    sample_prob = random.uniform(0,1)\n",
        "    if (sample_prob < P):\n",
        "        return after_pose\n",
        "    else:\n",
        "        return before_pose\n",
        "\n",
        "#x = x + 1\n",
        "\n"
      ]
    },
    {
      "cell_type": "markdown",
      "metadata": {
        "id": "VYJcHsmJnDC3"
      },
      "source": [
        "Finally, output the last pose and the lowest-scoring pose observed and view them in PyMOL (you'll need to dump the pose into a new pdb for this). Submit a screenshot of this.\n",
        "\n",
        "Plot the energy and lowest-energy observed vs. cycle number. What are the energies of the initial, last, and lowest-scoring pose? Is your program working? Has it converged to a good solution?\n"
      ]
    },
    {
      "cell_type": "code",
      "execution_count": null,
      "metadata": {
        "id": "RfCiL4wynDC3"
      },
      "outputs": [],
      "source": [
        "raise NotImplementedError()\n"
      ]
    },
    {
      "cell_type": "markdown",
      "metadata": {
        "id": "wjIQGIl_nDC3"
      },
      "source": [
        "### Exercise 1: Comparing to Alpha Helices\n",
        "Using the program you wrote previously, force the $A_{10}$ sequence into an ideal α-helix.\n",
        "\n",
        "**Questions:** Does this helical structure have a lower score than that produced by your folding algorithm above? What does this mean about your sampling or discrimination?"
      ]
    },
    {
      "cell_type": "code",
      "execution_count": null,
      "metadata": {
        "id": "NbFZS8X1nDC3"
      },
      "outputs": [],
      "source": [
        "# Answer the above questions here:\n",
        "\n",
        "# what are the ideal angles for an alpha-helix? force the protein to be an ideal alpha helix. compare it your lowest pose protein."
      ]
    },
    {
      "cell_type": "markdown",
      "metadata": {
        "id": "3OnUJbu3nDC3"
      },
      "source": [
        "### Exercise 2: Optimizing Algorithm\n",
        "Since your program is a stochastic search algorithm, it may not produce an ideal structure consistently, so try running the simulation multiple times or with a different number of cycles (if necessary). Using a kT of 1, your program may need to make up to 500,000 iterations."
      ]
    },
    {
      "cell_type": "code",
      "execution_count": null,
      "metadata": {
        "id": "AXhm1YLYnDC3"
      },
      "outputs": [],
      "source": [
        "# Report the lowest energy pose you found and the energy of that pose.\n",
        "# Dump this pose to a PDB file and visualize it in PyMOL. Submit a screenshot of the pose in PyMOL.\n",
        "\n",
        "raise NotImplementedError()"
      ]
    }
  ],
  "metadata": {
    "anaconda-cloud": {},
    "kernelspec": {
      "display_name": "Python 3",
      "language": "python",
      "name": "python3"
    },
    "language_info": {
      "codemirror_mode": {
        "name": "ipython",
        "version": 3
      },
      "file_extension": ".py",
      "mimetype": "text/x-python",
      "name": "python",
      "nbconvert_exporter": "python",
      "pygments_lexer": "ipython3",
      "version": "3.6.0"
    },
    "toc": {
      "base_numbering": 1,
      "nav_menu": {},
      "number_sections": true,
      "sideBar": true,
      "skip_h1_title": false,
      "title_cell": "Table of Contents",
      "title_sidebar": "Contents",
      "toc_cell": false,
      "toc_position": {
        "height": "calc(100% - 180px)",
        "left": "10px",
        "top": "150px",
        "width": "254.188px"
      },
      "toc_section_display": true,
      "toc_window_display": true
    },
    "colab": {
      "provenance": []
    }
  },
  "nbformat": 4,
  "nbformat_minor": 0
}